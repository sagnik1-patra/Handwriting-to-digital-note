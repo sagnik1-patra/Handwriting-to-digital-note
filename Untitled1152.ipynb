{
 "cells": [
  {
   "cell_type": "code",
   "execution_count": null,
   "id": "80e4a702-f09f-4106-9e4a-5877dbe01f8f",
   "metadata": {},
   "outputs": [
    {
     "name": "stderr",
     "output_type": "stream",
     "text": [
      "WARNING:absl:No training configuration found in the save file, so the model was *not* compiled. Compile it manually.\n"
     ]
    },
    {
     "name": "stdout",
     "output_type": "stream",
     "text": [
      "✅ OCR model loaded.\n"
     ]
    }
   ],
   "source": [
    "# ✅ No need to install these again if already installed\n",
    "\n",
    "# 📂 Imports\n",
    "import cv2\n",
    "import numpy as np\n",
    "import tensorflow as tf\n",
    "from tensorflow import keras\n",
    "from transformers import pipeline\n",
    "from PIL import Image\n",
    "import pdfkit\n",
    "import tkinter as tk\n",
    "from tkinter import filedialog\n",
    "\n",
    "# 📁 Paths\n",
    "model_path = r\"C:\\Users\\sagni\\Downloads\\HandWriting to Digital Notes\\ocr_model.h5\"\n",
    "pdf_output_path = r\"C:\\Users\\sagni\\Downloads\\HandWriting to Digital Notes\\digital_note.pdf\"\n",
    "\n",
    "# 🔤 Load OCR model\n",
    "model = keras.models.load_model(model_path)\n",
    "print(\"✅ OCR model loaded.\")\n",
    "\n",
    "# ✨ Character mapping (same as training)\n",
    "all_chars = sorted(set(\"abcdefghijklmnopqrstuvwxyzABCDEFGHIJKLMNOPQRSTUVWXYZ0123456789 .,-\"))\n",
    "char_to_num = {char: idx + 1 for idx, char in enumerate(all_chars)}\n",
    "num_to_char = {idx + 1: char for idx, char in enumerate(all_chars)}\n",
    "\n",
    "# 🔮 Decode CTC predictions\n",
    "def decode_ctc(pred):\n",
    "    input_len = np.ones(pred.shape[0]) * pred.shape[1]\n",
    "    decoded, _ = keras.backend.ctc_decode(pred, input_length=input_len, greedy=True)\n",
    "    decoded_text = []\n",
    "    for seq in decoded[0]:\n",
    "        text = \"\".join([num_to_char.get(int(char), \"\") for char in seq if int(char) != -1])\n",
    "        decoded_text.append(text)\n",
    "    return decoded_text\n",
    "\n",
    "# 📥 Load and preprocess image\n",
    "def preprocess_image(img_path):\n",
    "    img = cv2.imread(img_path, cv2.IMREAD_GRAYSCALE)\n",
    "    if img is None:\n",
    "        raise FileNotFoundError(f\"❌ Image not found or cannot be read: {img_path}\")\n",
    "    img = cv2.resize(img, (128, 32))\n",
    "    img = img / 255.0\n",
    "    img = img.reshape(1, 32, 128, 1)\n",
    "    return img\n",
    "\n",
    "# 🖱️ File picker for user\n",
    "def select_image():\n",
    "    root = tk.Tk()\n",
    "    root.withdraw()  # Hide the main window\n",
    "    file_path = filedialog.askopenfilename(\n",
    "        title=\"Select Handwritten Image\",\n",
    "        filetypes=[(\"Image Files\", \"*.jpg *.png *.jpeg *.bmp\")]\n",
    "    )\n",
    "    if not file_path:\n",
    "        raise ValueError(\"❌ No image selected.\")\n",
    "    print(f\"📂 Selected Image: {file_path}\")\n",
    "    return file_path\n",
    "\n",
    "# 🚀 Process selected image\n",
    "try:\n",
    "    image_path = select_image()\n",
    "    img = preprocess_image(image_path)\n",
    "    preds = model.predict(img)\n",
    "    predicted_text = decode_ctc(preds)[0]\n",
    "    print(\"📝 Raw OCR Output:\", predicted_text)\n",
    "except Exception as e:\n",
    "    print(f\"❌ Error: {e}\")\n",
    "    predicted_text = \"\"\n",
    "\n",
    "# 🪄 Optional: Grammar Cleanup & Summarization\n",
    "if predicted_text:\n",
    "    try:\n",
    "        summarizer = pipeline(\"summarization\", model=\"facebook/bart-large-cnn\")\n",
    "        cleaned_text = summarizer(predicted_text, max_length=512, min_length=50, do_sample=False)[0]['generated_text']\n",
    "        print(\"✨ Cleaned Digital Note:\", cleaned_text)\n",
    "    except Exception as e:\n",
    "        print(f\"⚠️ Summarizer failed ({e}). Using raw OCR text.\")\n",
    "        cleaned_text = predicted_text\n",
    "\n",
    "    # 📦 Save as PDF\n",
    "    with open(\"temp_note.txt\", \"w\", encoding=\"utf-8\") as f:\n",
    "        f.write(cleaned_text)\n",
    "\n",
    "    pdfkit.from_file(\"temp_note.txt\", pdf_output_path)\n",
    "    print(f\"📄 Digital Note saved to PDF at: {pdf_output_path}\")\n",
    "else:\n",
    "    print(\"⚠️ No text detected. Skipping PDF save.\")\n"
   ]
  },
  {
   "cell_type": "code",
   "execution_count": null,
   "id": "110816bb-2f9d-49d7-9838-d7407078c0bc",
   "metadata": {},
   "outputs": [],
   "source": []
  }
 ],
 "metadata": {
  "kernelspec": {
   "display_name": "Python 3.11 (moviepy)",
   "language": "python",
   "name": "py311"
  },
  "language_info": {
   "codemirror_mode": {
    "name": "ipython",
    "version": 3
   },
   "file_extension": ".py",
   "mimetype": "text/x-python",
   "name": "python",
   "nbconvert_exporter": "python",
   "pygments_lexer": "ipython3",
   "version": "3.11.9"
  }
 },
 "nbformat": 4,
 "nbformat_minor": 5
}
